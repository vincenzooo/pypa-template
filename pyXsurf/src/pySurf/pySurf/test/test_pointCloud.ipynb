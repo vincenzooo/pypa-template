{
 "cells": [
  {
   "cell_type": "code",
   "execution_count": 2,
   "metadata": {
    "collapsed": false,
    "jupyter": {
     "outputs_hidden": false
    }
   },
   "outputs": [],
   "source": [
    "import math\n",
    "from scipy import interpolate as ip\n",
    "from numpy import ma\n",
    "import os\n",
    "import pdb\n",
    "from copy import deepcopy\n",
    "from dataIO.span import span\n",
    "from matplotlib import pyplot as plt\n",
    "import numpy as np\n",
    "import os\n",
    "from IPython import display"
   ]
  },
  {
   "cell_type": "markdown",
   "metadata": {},
   "source": [
    "Test methods for loading, resampling, plotting, and saving. I am not sure code is not duplicated of the `points` module."
   ]
  },
  {
   "cell_type": "code",
   "execution_count": 3,
   "metadata": {
    "collapsed": false,
    "jupyter": {
     "outputs_hidden": false
    }
   },
   "outputs": [],
   "source": [
    "def load(filename,x=None,y=None,xrange=None,yrange=None,matrix=False,scale=(1.,1.,1.),center=None,skip_header=None,delimiter=','):\n",
    "    \"\"\"return a set of xyz points (Npoints,Ndim) from nanovea saved txt (matrix=False)\n",
    "    or gwyddion saved matrix (matrix=True, xrange, yrange must be defined).\n",
    "    Scale is used to scale the coordinates (equivalent to points=points*scale)\n",
    "    Center is the position of the center of the image (before any scaling or rotation) in absolute coordinates.\n",
    "        Set to (0,0) to center the coordinate system to the data.\"\"\"\n",
    "    #2014/04/29 added x and y as preferred arguments to xrange and yrange (to be removed).\n",
    "    if skip_header==None: \n",
    "        skip=0 \n",
    "    else: \n",
    "        skip=skip_header\n",
    "\n",
    "    if (matrix):\n",
    "        if ((xrange==None or yrange==None) and (x==None or y==None)): raise Exception\n",
    "        mdata=np.genfromtxt(filename,skip_header=skip)\n",
    "        nx,ny= mdata.shape\n",
    "        if x==None and y==None:\n",
    "            x=np.linspace(*xrange,num=nx)\n",
    "            y=np.linspace(*yrange,num=ny)\n",
    "        #plt.imshow(mdata, extent=(mxrange.min(), myrange.max(), mxrange.max(), myrange.min()))\n",
    "        xpoints,ypoints=[xy.flatten() for xy in np.array(np.meshgrid(x,y))]\n",
    "        zpoints=mdata.flatten()\n",
    "        points=np.vstack([xpoints,ypoints,zpoints]).T\n",
    "    else:\n",
    "        points= np.genfromtxt(filename,delimiter=delimiter,skip_header=skip)\n",
    "\n",
    "    if center != None:\n",
    "        offset=np.hstack([((np.nanmax(points,axis=0)-np.nanmin(points,axis=0))/2)[0:2],0])-np.array([center[0],center[1],0])\n",
    "        points=points-offset  #center on 0  \n",
    "    if scale != None:\n",
    "        points=points*scale\n",
    "    return points\n"
   ]
  },
  {
   "cell_type": "code",
   "execution_count": 4,
   "metadata": {
    "collapsed": false,
    "jupyter": {
     "outputs_hidden": false
    }
   },
   "outputs": [],
   "source": [
    "class Points(np.ndarray):\n",
    "    \"\"\"Represent a set of points in a N-dimensional point cloud, defined as array in format (Npoints,Ndim).\"\"\"\n",
    "    \n",
    "    method='linear' #default method for interpolation. It can be redefined with Points.method.\n",
    "    #if set differently in function calls, it is overridden.    \n",
    "    \n",
    "    def __new__(cls, filename, *args,**kwargs):\n",
    "        points=load(filename,*args,**kwargs)\n",
    "        obj = np.asarray(points).view(cls)\n",
    "        #obj.info = info\n",
    "        return obj\n",
    "\n",
    "    def __array_finalize__(self, obj):\n",
    "        #print 'In __array_finalize__:'\n",
    "        #print '   self is %s' % repr(self)\n",
    "        #print '   obj is %s' % repr(obj)\n",
    "        if obj is None: return\n",
    "        self.info = getattr(obj, 'info', None)\n",
    "\n",
    "    def __array_wrap__(self, out_arr, context=None):\n",
    "        #print 'In __array_wrap__:'\n",
    "        #print '   self is %s' % repr(self)\n",
    "        #print '   arr is %s' % repr(out_arr)\n",
    "        # then just call the parent\n",
    "        return np.ndarray.__array_wrap__(self, out_arr, context)   \n",
    "    \n",
    "    def translate(self,offset=0):\n",
    "        \"\"\"returns translated coordinates of 2D point(s) x ([Npoints x 2]) by an offset.\n",
    "        It works also on 3-D points, in that case the z is returned unchanged.\n",
    "        ND.\"\"\"\n",
    "        \n",
    "        #2014/11/26 in class. Replaced old translate with a simple sum of arrays.\n",
    "        #   The sum is broadcasted whenever it makes sense.\n",
    "        #It is interesting to notice that calculating the new vector and assigning it to self\n",
    "        #    with self[:]=translated and returning self\n",
    "        #    doesn't work, in the sense that the original array is modified and all returned\n",
    "        #    values point to the same array.\n",
    "        #2014/08/11 \n",
    "        #- return a 3d array if a 3d array was passed as argument.\n",
    "        #- convert the result to array before return.\n",
    "        #   The result was initially of type np.matrix to simplify operations on extracted columns,\n",
    "        #   but it didn't really work. The problem is that the result is a matrix and if the\n",
    "        #   user is unaware of that, all following slicing (column extractions) will be messed up\n",
    "        #   (vectors will be column vectors as opposite to row vectors returned by np arrays.\n",
    "                \n",
    "        return self+offset\n",
    "\n",
    "    def rotate(self,theta=0,center=(0,0)):\n",
    "        \"\"\"returns rotated coordinates of 2D point(s) x ([Npoints x 2]) about a center with anticlockwise angle theta in rad. \n",
    "        If 3D points are passed, z coordinate is maintained.\n",
    "        3D. ugly wrapper around a 2d function (of x and y).\"\"\"\n",
    "        \n",
    "        if np.size(theta)!=1:\n",
    "            raise NotImplemented\n",
    "        \n",
    "        tx,ty=center\n",
    "        if (self.shape[-1]==3):\n",
    "            return np.hstack([self[:,0:2].rotate(theta,center),self[:,2:]])\n",
    "        else:\n",
    "            if(self.shape[-1]!=2):\n",
    "                raise NotImplemented\n",
    "        x,y=np.array(self[:,0]),np.array(self[:,1])\n",
    "        cost=math.cos(theta)\n",
    "        sint=math.sin(theta)\n",
    "        x1=x*cost-y*sint + ty*sint - tx*(cost-1)\n",
    "        y1=x*sint+y*cost - tx*sint - ty *(cost-1)\n",
    "        return np.vstack((x1,y1)).T\n",
    "    "
   ]
  },
  {
   "cell_type": "code",
   "execution_count": 10,
   "metadata": {
    "collapsed": false,
    "jupyter": {
     "outputs_hidden": false
    }
   },
   "outputs": [
    {
     "name": "stdout",
     "output_type": "stream",
     "text": [
      "[[ -66.862   67.004 -208.344]\n",
      " [ -59.662   67.028 -210.662]\n",
      " [ -52.306   67.041 -212.756]\n",
      " ...\n",
      " [  61.03   -72.874 -210.496]\n",
      " [  68.302  -72.874 -208.137]\n",
      " [  75.485  -72.871 -205.546]]\n",
      "[[  45.28554106   83.12209593 -208.344     ]\n",
      " [  47.35092297   76.22464904 -210.662     ]\n",
      " [  49.45000802   69.17448969 -212.756     ]\n",
      " ...\n",
      " [ -52.56874441  -79.19474659 -210.496     ]\n",
      " [ -50.505953    -86.16804391 -208.137     ]\n",
      " [ -48.46553075  -93.05514599 -205.546     ]]\n",
      "[[ -67.004  -66.862 -208.344]\n",
      " [ -67.028  -59.662 -210.662]\n",
      " [ -67.041  -52.306 -212.756]\n",
      " ...\n",
      " [  72.874   61.03  -210.496]\n",
      " [  72.874   68.302 -208.137]\n",
      " [  72.871   75.485 -205.546]]\n",
      "[[ -66.862   67.004 -208.344]\n",
      " [ -59.662   67.028 -210.662]\n",
      " [ -52.306   67.041 -212.756]\n",
      " ...\n",
      " [  61.03   -72.874 -210.496]\n",
      " [  68.302  -72.874 -208.137]\n",
      " [  75.485  -72.871 -205.546]]\n"
     ]
    }
   ],
   "source": [
    "#filename=r'C:\\Users\\Vincenzo\\Google Drive\\libraries\\python\\userKov\\pySurf\\test\\pointCloud\\01_initialization\\input\\01_OP2S06_CMMsurface.dat'\n",
    "os.path.curdir\n",
    "filename=r'pointCloud\\01_initialization\\input\\01_OP2S06_CMMsurface.dat'\n",
    "\n",
    "p=Points(filename,delimiter='\\t')\n",
    "print (p.rotate())\n",
    "print (p.rotate(5))\n",
    "r=p.rotate(np.pi/2)\n",
    "print (r)\n",
    "print (p)\n"
   ]
  },
  {
   "cell_type": "code",
   "execution_count": 12,
   "metadata": {
    "collapsed": false,
    "jupyter": {
     "outputs_hidden": false
    }
   },
   "outputs": [
    {
     "name": "stdout",
     "output_type": "stream",
     "text": [
      "[[ -66.862   67.004 -208.344]\n",
      " [ -59.662   67.028 -210.662]\n",
      " [ -52.306   67.041 -212.756]\n",
      " ...\n",
      " [  61.03   -72.874 -210.496]\n",
      " [  68.302  -72.874 -208.137]\n",
      " [  75.485  -72.871 -205.546]]\n",
      "[[ -67.004  -66.862 -208.344]\n",
      " [ -67.028  -59.662 -210.662]\n",
      " [ -67.041  -52.306 -212.756]\n",
      " ...\n",
      " [  72.874   61.03  -210.496]\n",
      " [  72.874   68.302 -208.137]\n",
      " [  72.871   75.485 -205.546]]\n"
     ]
    }
   ],
   "source": [
    "print (p)\n",
    "print (r)"
   ]
  },
  {
   "cell_type": "code",
   "execution_count": 13,
   "metadata": {
    "collapsed": false,
    "jupyter": {
     "outputs_hidden": false
    }
   },
   "outputs": [
    {
     "name": "stdout",
     "output_type": "stream",
     "text": [
      "[[ -66.862   67.004 -208.344]\n",
      " [ -59.662   67.028 -210.662]\n",
      " [ -52.306   67.041 -212.756]\n",
      " ...\n",
      " [  61.03   -72.874 -210.496]\n",
      " [  68.302  -72.874 -208.137]\n",
      " [  75.485  -72.871 -205.546]]\n",
      "[[ -61.862   72.004 -203.344]\n",
      " [ -54.662   72.028 -205.662]\n",
      " [ -47.306   72.041 -207.756]\n",
      " ...\n",
      " [  66.03   -67.874 -205.496]\n",
      " [  73.302  -67.874 -203.137]\n",
      " [  80.485  -67.871 -200.546]]\n",
      "1814454546216 \n",
      " [[ -66.862   67.004 -208.344]\n",
      " [ -59.662   67.028 -210.662]\n",
      " [ -52.306   67.041 -212.756]\n",
      " ...\n",
      " [  61.03   -72.874 -210.496]\n",
      " [  68.302  -72.874 -208.137]\n",
      " [  75.485  -72.871 -205.546]]\n",
      "1814454545768 \n",
      " [[ -67.862   68.004 -202.344]\n",
      " [ -60.662   68.028 -204.662]\n",
      " [ -53.306   68.041 -206.756]\n",
      " ...\n",
      " [  60.03   -71.874 -204.496]\n",
      " [  67.302  -71.874 -202.137]\n",
      " [  74.485  -71.871 -199.546]]\n"
     ]
    }
   ],
   "source": [
    "filename=r'pointCloud\\01_initialization\\input\\01_OP2S06_CMMsurface.dat'\n",
    "p=Points(filename,delimiter='\\t')\n",
    "print (p.translate())\n",
    "print (p.translate(5))\n",
    "r=p.translate((-1,1,6))\n",
    "print (id(p),'\\n',p)\n",
    "print (id(r),'\\n',r)"
   ]
  },
  {
   "cell_type": "code",
   "execution_count": 29,
   "metadata": {
    "collapsed": false,
    "jupyter": {
     "outputs_hidden": false
    }
   },
   "outputs": [
    {
     "name": "stdout",
     "output_type": "stream",
     "text": [
      "resampling...\n"
     ]
    },
    {
     "data": {
      "image/png": "[encoded data removed]",
      "text/plain": [
       "<Figure size 432x288 with 2 Axes>"
      ]
     },
     "metadata": {
      "needs_background": "light"
     },
     "output_type": "display_data"
    },
    {
     "name": "stdout",
     "output_type": "stream",
     "text": [
      "p.plot().shape: (20, 29)\n"
     ]
    }
   ],
   "source": [
    "from pySurf.points import resample_grid\n",
    "method='linear'\n",
    "\n",
    "def _resample_on_mesh(self,xgrid,ygrid):\n",
    "    from matplotlib.mlab import griddata\n",
    "    \"\"\"resample points [Npoints x 3] on the grid defined by two vectors xgrid [Nx] and ygrid [Ny].\n",
    "    Return a [Nx * Ny , 3] vector of points, sorted in standard python order\n",
    "    (x changes faster). To get a (plottable) matrix of data use:\n",
    "    plt.imshow(rpoints[:,2].reshape(ygrid.size,xgrid.size)).\"\"\"\n",
    "    assert self.shape[1]==3\n",
    "    x,y=np.meshgrid(xgrid,ygrid) #this always return\n",
    "    z=ip.griddata(self[:,0:2],self[:,2],(x,y),method=method) \n",
    "    rpoints=np.vstack([x.flatten(),y.flatten(),z.flatten()]).T   \n",
    "    #2014/11/24 rpoints=np.vstack([x.T.flatten(),y.T.flatten(),z.T.flatten()]).T\n",
    "    return rpoints\n",
    "\n",
    "def _resample_on_points(self,positions):\n",
    "    \"\"\"Resample points [Npoints x ndim] on the points defined in positions.\n",
    "        \n",
    "    Positions is [Mpoints x ndim-1] or [Mpoints x ndim-1] (in this case, the last column is ignored).\n",
    "    Return a [Nx x Ny , ndim] vector of points. \n",
    "    To get a (plottable) matrix of data use:\n",
    "    plt.imshow(rpoints[:,ndim-1].reshape(xgrid.size,ygrid.size)).\"\"\"\n",
    "    \n",
    "    points=self.points\n",
    "    if len(points.shape)==1:\n",
    "        ndim=1\n",
    "    else:\n",
    "        assert len(points.shape)==2\n",
    "        ndim=(points.shape)[-1]\n",
    "        \n",
    "    assert len(positions.shape)==2\n",
    "    if (positions.shape)[-1]!=ndim-1 and (positions.shape)[-1]!=ndim:\n",
    "        warn('Positions provided for data interpolation have mismatching dimensions.')\n",
    "        \n",
    "    z=ip.griddata(self[:,0:-1],self[:,-1],positions[:,0:ndim],method=self.method)\n",
    "    rpoints=np.hstack([positions[:,0:ndim],z[:,np.newaxis]])\n",
    "    return rpoints\n",
    "\n",
    "'''\n",
    "def resample(self,positions):\n",
    "    \"\"\"resample points [Npoints x 3] on the points defined in positions [Mpoints x 2], or [Mpoints x 3]\n",
    "    (in this case 3rd column is ignored).\n",
    "    Return a [Nx x Ny , 3] vector of points. To get a (plottable) matrix of data use:\n",
    "    plt.imshow(rpoints[:,2].reshape(xgrid.size,ygrid.size)).\"\"\"\n",
    "    assert self.shape[1]==3\n",
    "    z=ip.griddata(self[:,0:2],self[:,-1],positions[:,0:2],method=method)\n",
    "    rpoints=np.hstack([positions[:,0:2],z[:,np.newaxis]])\n",
    "    return rpoints\n",
    "'''        \n",
    "\n",
    "def to_matrix(points,xgrid=None,ygrid=None,shape=None,matrix=False,fill_value=np.nan,**kwargs):\n",
    "    \"\"\"Resample points on a grid based on different possible settings.\n",
    "    \n",
    "    \"\"\"\n",
    "    \n",
    "    if shape==None:\n",
    "        assert len(xgrid.shape)==len(ygrid.shape)==1\n",
    "    else:\n",
    "        assert xgrid==ygrid==None\n",
    "        x,y,z=np.hsplit(self,3)\n",
    "        xgrid=np.linspace(x.min(),x.max(),shape[0])\n",
    "        ygrid=np.linspace(y.min(),y.max(),shape[1])\n",
    "    assert xgrid!=None\n",
    "    assert ygrid!=None\n",
    "    grid=np.vstack([g.flatten() for g in  np.meshgrid(xgrid,ygrid)]).T\n",
    "    points=ip.griddata(self[:,0:2],self[:,2],grid,fill_value=fill_value,method=method)\n",
    "    points=self.reshape(ygrid.size,xgrid.size)\n",
    "\n",
    "\"\"\" save and plot use the same interface\"\"\"\n",
    "\n",
    "def save(self,filename,xgrid=None,ygrid=None,shape=None,matrix=False,fill_value=np.nan,**kwargs):\n",
    "    \"\"\"save points on a file. If matrix is true write in matrix form (in this case you have to \n",
    "    provide the values for axis). Otherwise write as points in columns.\"\"\"\n",
    "    #2014/08/08 default fill_value modified to nan.\n",
    "    #20140420 moved filename to second argument for consistency.\n",
    "    if matrix:\n",
    "        if shape==None:\n",
    "            assert len(xgrid.shape)==len(ygrid.shape)==1\n",
    "        else:\n",
    "            assert xgrid==ygrid==None\n",
    "            x,y,z=np.hsplit(self,3)\n",
    "            xgrid=np.linspace(x.min(),x.max(),shape[0])\n",
    "            ygrid=np.linspace(y.min(),y.max(),shape[1])\n",
    "        assert xgrid!=None\n",
    "        assert ygrid!=None\n",
    "        grid=np.vstack([g.flatten() for g in  np.meshgrid(xgrid,ygrid)]).T\n",
    "        points=ip.griddata(self[:,0:2],self[:,2],grid,fill_value=fill_value,method=method)\n",
    "        points=self.reshape(ygrid.size,xgrid.size)\n",
    "        #points=np.hstack([grid,self[:,np.newaxis]])\n",
    "    #if not, they are already in the correct format\n",
    "    np.savetxt(self,filename,**kwargs)\n",
    "    \n",
    "def plot(self,xgrid=None,ygrid=None,shape=None,resample=True,scatter=False,**kwargs):\n",
    "    \"\"\"resample xyz points [Nx3] to a grid whose axis xgrid and ygrid are given\n",
    "    and plot it. If resample is set to False x and y positions are considered only for range, \n",
    "    but they are not used to position the z values (it works if x and y are on an exact unrotated grid,\n",
    "    resampling is slower, but exact).\"\"\"\n",
    "\n",
    "    #plot\n",
    "    #plt.clf()\n",
    "    x,y,z=np.hsplit(self,3)\n",
    "    cmap=kwargs.pop('cmap','jet')\n",
    "    aspect=kwargs.pop('aspect','equal')\n",
    "    #pdb.set_trace()\n",
    "    if scatter: #do scatterplot\n",
    "        beamsize=20 #I may use this to represent beamsize (round symbol) or lateral resolution (square)\n",
    "        plt.gca().set_aspect(aspect)\n",
    "        plt.scatter(x, y, c=z, s=beamsize, cmap=cmap, edgecolors='None', **kwargs)\n",
    "    else:\n",
    "        #if not scatter plot, grid must be provided as shape or as xgrid and ygrid axis.\n",
    "        if shape==None:\n",
    "            if not len(xgrid.shape)==len(ygrid.shape)==1:\n",
    "                return z    #skip plot\n",
    "        else:\n",
    "            assert xgrid==ygrid==None\n",
    "            xgrid=np.linspace(x.min(),x.max(),shape[0])\n",
    "            ygrid=np.linspace(y.min(),y.max(),shape[1])\n",
    "        if resample:\n",
    "            print (\"resampling...\")\n",
    "            z=resample_grid(self,xgrid,ygrid)[:,2]\n",
    "        nx,ny=[xx.size for xx in (xgrid,ygrid)]\n",
    "        xr,yr=[span(xx) for xx in (xgrid,ygrid)]\n",
    "        xxg,sx=np.linspace(xr[0],xr[1],nx,retstep=1)\n",
    "        yyg,sy=np.linspace(yr[0],yr[1],ny,retstep=1)\n",
    "        #ranges for plot (intervals centered on xxg, yyg)\n",
    "        xr=xr+np.array((-sx/2,sx/2))\n",
    "        yr=yr+np.array((-sy/2,sy/2))\n",
    "\n",
    "        z=z.reshape(ny,nx)\n",
    "        plt.imshow(z,extent=[xr[0],xr[1],yr[0],yr[1]],interpolation='none',aspect=aspect,\n",
    "            origin='lower')\n",
    "    plt.xlabel('X (mm)')\n",
    "    plt.ylabel('Y (mm)')\n",
    "    plt.colorbar()\n",
    "    plt.show()\n",
    "    return z\n",
    "\n",
    "Points.save=save\n",
    "Points.plot=plot\n",
    "filename=r'pointCloud\\01_initialization\\input\\01_OP2S06_CMMsurface.dat'\n",
    "p=Points(filename,delimiter='\\t')\n",
    "a=p.plot(shape=(29,20))\n",
    "print(\"p.plot().shape:\",a.shape)"
   ]
  },
  {
   "cell_type": "code",
   "execution_count": 19,
   "metadata": {},
   "outputs": [],
   "source": [
    "%qtconsole"
   ]
  },
  {
   "cell_type": "code",
   "execution_count": 18,
   "metadata": {
    "collapsed": false,
    "jupyter": {
     "outputs_hidden": false
    }
   },
   "outputs": [],
   "source": [
    "gfile=filename\n",
    "outfolder='OP2S06cmm' \n",
    "imsize=(29,20)"
   ]
  },
  {
   "cell_type": "code",
   "execution_count": null,
   "metadata": {
    "collapsed": false,
    "jupyter": {
     "outputs_hidden": false
    }
   },
   "outputs": [],
   "source": []
  }
 ],
 "metadata": {
  "kernelspec": {
   "display_name": "Python 3",
   "language": "python",
   "name": "python3"
  },
  "language_info": {
   "codemirror_mode": {
    "name": "ipython",
    "version": 3
   },
   "file_extension": ".py",
   "mimetype": "text/x-python",
   "name": "python",
   "nbconvert_exporter": "python",
   "pygments_lexer": "ipython3",
   "version": "3.7.3"
  }
 },
 "nbformat": 4,
 "nbformat_minor": 4
}
