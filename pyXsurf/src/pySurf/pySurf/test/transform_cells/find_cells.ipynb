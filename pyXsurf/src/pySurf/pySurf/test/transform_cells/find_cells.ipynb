{
 "metadata": {
  "name": "",
  "signature": "sha256:f856b5bf7e6c82e902d09aee21e5903bfe81815dc2bf2e1b665bc1564dc628d9"
 },
 "nbformat": 3,
 "nbformat_minor": 0,
 "worksheets": [
  {
   "cells": [
    {
     "cell_type": "code",
     "collapsed": false,
     "input": [
      "%pylab"
     ],
     "language": "python",
     "metadata": {},
     "outputs": [
      {
       "output_type": "stream",
       "stream": "stdout",
       "text": [
        "\n",
        "Welcome to pylab, a matplotlib-based Python environment [backend: WXAgg].\n",
        "For more information, type 'help(pylab)'.\n"
       ]
      }
     ],
     "prompt_number": 3
    },
    {
     "cell_type": "code",
     "collapsed": false,
     "input": [
      "\n",
      "\n",
      "def rototrans_func(theta,center=(0,0),offset=(0,0)):\n",
      "    \"\"\"return a function that rotate by theta about center THEN translate by offset\"\"\"\n",
      "    def func(x):\n",
      "        if (x.shape[-1]==3):\n",
      "            xy=x[:,0:2]\n",
      "            return np.hstack([translate_points(rotate_points(xy,theta,center),offset),x[:,2,np.newaxis]]) \n",
      "        else:  \n",
      "            return translate_points(rotate_points(x,theta,center),offset)\n",
      "    return func\n",
      "    \n",
      "def find_rototrans(primary, secondary,verbose=False):\n",
      "    \"\"\"Return a function that can transform points from the first system to the second by means of a rototranslation. Also (not implemented yet, but kept for interface consistency with find_affine) return the matrix A of the transformation, that can be applied to a vector x with unpad(np.dot(pad(x), A)).\n",
      "    primary and secondary are sets of points in format [Npoints, 2]. Transformation matrix A is [Ndim+1 x Ndim+1].\"\"\"\n",
      "    \n",
      "    ang1,r1,b1=_angpos2(primary[:,0:2])   #glass-> 1, mandrel-> 2\n",
      "    ang2,r2,b2=_angpos2(secondary[:,0:2])\n",
      "    mrot=(ang2-ang1).mean()\n",
      "    bartrans=b2-b1\n",
      "    #define the transformation function. I will transform primary data\n",
      "    transform=rototrans_func(mrot,b1,bartrans)\n",
      "    #if gmarkers.shape[0]: transform=a2d.find_affine(mmarkers,gmarkers)\n",
      "    if verbose:\n",
      "        print \"stdv of markers distance errors from barycenter: %s\"%((r1-r2).std())\n",
      "        print 'rotation angle (degrees): %s +-%s'%(mrot*180./math.pi,(ang1-ang2).std()*180./math.pi)\n",
      "        print \"errors in markers position after rotations:\"\n",
      "        print secondary-transform(primary)\n",
      "    return transform,[mrot,b1,bartrans] \n",
      "\n",
      "from points import *"
     ],
     "language": "python",
     "metadata": {},
     "outputs": [],
     "prompt_number": 66
    },
    {
     "cell_type": "code",
     "collapsed": false,
     "input": [
      "primary = np.array([[-27,27., 0.],\n",
      "                    [-27.,-27., 0.],\n",
      "                    [27., -27., 0.],\n",
      "                    [27., 27., 0.]])\n",
      "primary = np.array([[-26,26., 0.],\n",
      "                    [-26.,-26., 0.],\n",
      "                    [26., -26., 0.],\n",
      "                    [26., 26., 0.]])\n",
      "secondary = np.array([[-26.36,21.99, 0.],\n",
      "                    [-27.48, -29.63, 0.],\n",
      "                    [24.86, -30.08, 0.],\n",
      "                    [25.92, 21.71, 0.]])\n",
      "\n",
      "transform2,A2= find_rototrans(primary, secondary,verbose=True)"
     ],
     "language": "python",
     "metadata": {},
     "outputs": [
      {
       "output_type": "stream",
       "stream": "stdout",
       "text": [
        "stdv of markers distance errors from barycenter: 0.26123174142\n",
        "rotation angle (degrees): -0.79911162104 +-0.331392828379\n",
        "errors in markers position after rotations:\n",
        "[[ 0.03985766 -0.36758484  0.        ]\n",
        " [-0.35491516  0.00735766  0.        ]\n",
        " [-0.00985766  0.28258484  0.        ]\n",
        " [ 0.32491516  0.07764234  0.        ]]\n"
       ]
      }
     ],
     "prompt_number": 78
    },
    {
     "cell_type": "code",
     "collapsed": false,
     "input": [
      "t2=transform2(primary)\n",
      "t2"
     ],
     "language": "python",
     "metadata": {},
     "outputs": [
      {
       "metadata": {},
       "output_type": "pyout",
       "prompt_number": 79,
       "text": [
        "array([[-26.39985766,  22.35758484,   0.        ],\n",
        "       [-27.12508484, -29.63735766,   0.        ],\n",
        "       [ 24.86985766, -30.36258484,   0.        ],\n",
        "       [ 25.59508484,  21.63235766,   0.        ]])"
       ]
      }
     ],
     "prompt_number": 79
    },
    {
     "cell_type": "code",
     "collapsed": false,
     "input": [
      "def distance_table(points):\n",
      "    for ip,p in enumerate(points): \n",
      "        for iq,q in enumerate(points):\n",
      "            if ip<iq: print ip+1,iq+1,np.sqrt((((p-q)**2)[0:2]).sum())/2\n",
      "distance_table(secondary)"
     ],
     "language": "python",
     "metadata": {},
     "outputs": [
      {
       "ename": "NameError",
       "evalue": "name 'secondary' is not defined",
       "output_type": "pyerr",
       "traceback": [
        "\u001b[1;31m---------------------------------------------------------------------------\u001b[0m\n\u001b[1;31mNameError\u001b[0m                                 Traceback (most recent call last)",
        "\u001b[1;32m<ipython-input-1-6f4b8e3b8364>\u001b[0m in \u001b[0;36m<module>\u001b[1;34m()\u001b[0m\n\u001b[0;32m      3\u001b[0m         \u001b[1;32mfor\u001b[0m \u001b[0miq\u001b[0m\u001b[1;33m,\u001b[0m\u001b[0mq\u001b[0m \u001b[1;32min\u001b[0m \u001b[0menumerate\u001b[0m\u001b[1;33m(\u001b[0m\u001b[0mpoints\u001b[0m\u001b[1;33m)\u001b[0m\u001b[1;33m:\u001b[0m\u001b[1;33m\u001b[0m\u001b[0m\n\u001b[0;32m      4\u001b[0m             \u001b[1;32mif\u001b[0m \u001b[0mip\u001b[0m\u001b[1;33m<\u001b[0m\u001b[0miq\u001b[0m\u001b[1;33m:\u001b[0m \u001b[1;32mprint\u001b[0m \u001b[0mip\u001b[0m\u001b[1;33m+\u001b[0m\u001b[1;36m1\u001b[0m\u001b[1;33m,\u001b[0m\u001b[0miq\u001b[0m\u001b[1;33m+\u001b[0m\u001b[1;36m1\u001b[0m\u001b[1;33m,\u001b[0m\u001b[0mnp\u001b[0m\u001b[1;33m.\u001b[0m\u001b[0msqrt\u001b[0m\u001b[1;33m(\u001b[0m\u001b[1;33m(\u001b[0m\u001b[1;33m(\u001b[0m\u001b[1;33m(\u001b[0m\u001b[0mp\u001b[0m\u001b[1;33m-\u001b[0m\u001b[0mq\u001b[0m\u001b[1;33m)\u001b[0m\u001b[1;33m**\u001b[0m\u001b[1;36m2\u001b[0m\u001b[1;33m)\u001b[0m\u001b[1;33m[\u001b[0m\u001b[1;36m0\u001b[0m\u001b[1;33m:\u001b[0m\u001b[1;36m2\u001b[0m\u001b[1;33m]\u001b[0m\u001b[1;33m)\u001b[0m\u001b[1;33m.\u001b[0m\u001b[0msum\u001b[0m\u001b[1;33m(\u001b[0m\u001b[1;33m)\u001b[0m\u001b[1;33m)\u001b[0m\u001b[1;33m/\u001b[0m\u001b[1;36m2\u001b[0m\u001b[1;33m\u001b[0m\u001b[0m\n\u001b[1;32m----> 5\u001b[1;33m \u001b[0mdistance_table\u001b[0m\u001b[1;33m(\u001b[0m\u001b[0msecondary\u001b[0m\u001b[1;33m)\u001b[0m\u001b[1;33m\u001b[0m\u001b[0m\n\u001b[0m",
        "\u001b[1;31mNameError\u001b[0m: name 'secondary' is not defined"
       ]
      }
     ],
     "prompt_number": 1
    },
    {
     "cell_type": "code",
     "collapsed": false,
     "input": [
      "cell8=np.array([[-21.,-31.5,0]])\n",
      "print transform2(cell8)"
     ],
     "language": "python",
     "metadata": {},
     "outputs": [
      {
       "output_type": "stream",
       "stream": "stdout",
       "text": [
        "[[-22.20227786 -35.20655611   0.        ]]\n"
       ]
      }
     ],
     "prompt_number": 81
    },
    {
     "cell_type": "code",
     "collapsed": false,
     "input": [
      "cell8=np.array([[-16.48,-19.49,0]])\n",
      "tinv,Ainv= find_rototrans(secondary,primary, verbose=True)\n",
      "print tinv(cell8)\n",
      "#-23.22\t-36.69"
     ],
     "language": "python",
     "metadata": {},
     "outputs": [
      {
       "output_type": "stream",
       "stream": "stdout",
       "text": [
        "stdv of markers distance errors from barycenter: 0.26123174142\n",
        "rotation angle (degrees): 0.79911162104 +-0.331392828379\n",
        "errors in markers position after rotations:\n",
        "[[-1.04498037  1.36699321  0.        ]\n",
        " [-0.64501675 -1.00240705  0.        ]\n",
        " [ 1.01379782 -1.28241988  0.        ]\n",
        " [ 0.6761993   0.91783372  0.        ]]\n",
        "[[-15.49747241 -15.70516572   0.        ]]\n"
       ]
      }
     ],
     "prompt_number": 77
    },
    {
     "cell_type": "code",
     "collapsed": false,
     "input": [
      "cells=np.array([[10.5,-42,0],\n",
      "[0,-42,0],\n",
      "[-10.5,-42,0],\n",
      "[21,-31.5,0],\n",
      "[10.5,-31.5,0],\n",
      "[0,-31.5,0],\n",
      "[-10.5,-31.5,0],\n",
      "[-21,-31.5,0],\n",
      "[31.5,-21,0],\n",
      "[21,-21,0],\n",
      "[10.5,-21,0],\n",
      "[0,-21,0],\n",
      "[-10.5,-21,0],\n",
      "[-21,-21,0],\n",
      "[-31.5,-21,0],\n",
      "[42,10.5,0],\n",
      "[31.5,10.5,0],\n",
      "[21,10.5,0],\n",
      "[10.5,10.5,0],\n",
      "[0,10.5,0],\n",
      "[-10.5,10.5,0],\n",
      "[-21,10.5,0],\n",
      "[-31.5,10.5,0],\n",
      "[-42,10.5,0],\n",
      "[42,0,0],\n",
      "[31.5,0,0],\n",
      "[21,0,0],\n",
      "[10.5,0,0],\n",
      "[0,0,0],\n",
      "[-10.5,0,0],\n",
      "[-21,0,0],\n",
      "[-31.5,0,0],\n",
      "[-42,0,0],\n",
      "[42,10.5,0],\n",
      "[31.5,10.5,0],\n",
      "[21,10.5,0],\n",
      "[10.5,10.5,0],\n",
      "[0,10.5,0],\n",
      "[-10.5,10.5,0],\n",
      "[-21,10.5,0],\n",
      "[-31.5,10.5,0],\n",
      "[-42,10.5,0],\n",
      "[31.5,21,0],\n",
      "[21,21,0],\n",
      "[10.5,21,0],\n",
      "[0,21,0],\n",
      "[-10.5,21,0],\n",
      "[-21,21,0],\n",
      "[-31.5,21,0],\n",
      "[21,31.5,0],\n",
      "[10.5,31.5,0],\n",
      "[0,31.5,0],\n",
      "[-10.5,31.5,0],\n",
      "[-21,31.5,0],\n",
      "[10.5,42,0],\n",
      "[0,42,0],\n",
      "[-10.5,42,0]])\n",
      "print transform2(cells)"
     ],
     "language": "python",
     "metadata": {},
     "outputs": [
      {
       "output_type": "stream",
       "stream": "stdout",
       "text": [
        "[[-11.15027637  40.14663402   0.        ]\n",
        " [ -0.15134622  39.99322058   0.        ]\n",
        " [ 10.84758392  39.83980713   0.        ]\n",
        " [-22.30261996  29.30111732   0.        ]\n",
        " [-11.30368981  29.14770388   0.        ]\n",
        " [ -0.30475967  28.99429043   0.        ]\n",
        " [ 10.69417048  28.84087699   0.        ]\n",
        " [ 21.69310062  28.68746354   0.        ]\n",
        " [-33.45496354  18.45560062   0.        ]\n",
        " [-22.4560334   18.30218718   0.        ]\n",
        " [-11.45710326  18.14877373   0.        ]\n",
        " [ -0.45817311  17.99536029   0.        ]\n",
        " [ 10.54075703  17.84194684   0.        ]\n",
        " [ 21.53968718  17.6885334    0.        ]\n",
        " [ 32.53861732  17.53511996   0.        ]\n",
        " [-44.60730713   7.61008392   0.        ]\n",
        " [-33.60837699   7.45667048   0.        ]\n",
        " [-22.60944684   7.30325703   0.        ]\n",
        " [-11.6105167    7.14984359   0.        ]\n",
        " [ -0.61158656   6.99643014   0.        ]\n",
        " [ 10.38734359   6.8430167    0.        ]\n",
        " [ 21.38627373   6.68960326   0.        ]\n",
        " [ 32.38520388   6.53618981   0.        ]\n",
        " [ 43.38413402   6.38277637   0.        ]\n",
        " [-44.76072058  -3.38884622   0.        ]\n",
        " [-33.76179043  -3.54225967   0.        ]\n",
        " [-22.76286029  -3.69567311   0.        ]\n",
        " [-11.76393014  -3.84908656   0.        ]\n",
        " [ -0.765       -4.0025       0.        ]\n",
        " [ 10.23393014  -4.15591344   0.        ]\n",
        " [ 21.23286029  -4.30932689   0.        ]\n",
        " [ 32.23179043  -4.46274033   0.        ]\n",
        " [ 43.23072058  -4.61615378   0.        ]\n",
        " [-44.91413402 -14.38777637   0.        ]\n",
        " [-33.91520388 -14.54118981   0.        ]\n",
        " [-22.91627373 -14.69460326   0.        ]\n",
        " [-11.91734359 -14.8480167    0.        ]\n",
        " [ -0.91841344 -15.00143014   0.        ]\n",
        " [ 10.0805167  -15.15484359   0.        ]\n",
        " [ 21.07944684 -15.30825703   0.        ]\n",
        " [ 32.07837699 -15.46167048   0.        ]\n",
        " [ 43.07730713 -15.61508392   0.        ]\n",
        " [-34.06861732 -25.54011996   0.        ]\n",
        " [-23.06968718 -25.6935334    0.        ]\n",
        " [-12.07075703 -25.84694684   0.        ]\n",
        " [ -1.07182689 -26.00036029   0.        ]\n",
        " [  9.92710326 -26.15377373   0.        ]\n",
        " [ 20.9260334  -26.30718718   0.        ]\n",
        " [ 31.92496354 -26.46060062   0.        ]\n",
        " [-23.22310062 -36.69246354   0.        ]\n",
        " [-12.22417048 -36.84587699   0.        ]\n",
        " [ -1.22524033 -36.99929043   0.        ]\n",
        " [  9.77368981 -37.15270388   0.        ]\n",
        " [ 20.77261996 -37.30611732   0.        ]\n",
        " [-12.37758392 -47.84480713   0.        ]\n",
        " [ -1.37865378 -47.99822058   0.        ]\n",
        " [  9.62027637 -48.15163402   0.        ]]\n"
       ]
      }
     ],
     "prompt_number": 71
    },
    {
     "cell_type": "code",
     "collapsed": false,
     "input": [],
     "language": "python",
     "metadata": {},
     "outputs": []
    }
   ],
   "metadata": {}
  }
 ]
}